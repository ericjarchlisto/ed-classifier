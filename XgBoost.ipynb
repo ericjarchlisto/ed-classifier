{
 "cells": [
  {
   "cell_type": "code",
   "execution_count": 74,
   "id": "c2af93b8",
   "metadata": {},
   "outputs": [],
   "source": [
    "import numpy as np\n",
    "import scipy.sparse\n",
    "import pickle\n",
    "import xgboost as xgb\n",
    "import os\n",
    "import pandas as pd\n",
    "from scipy import sparse\n",
    "from sklearn import metrics, model_selection\n",
    "from sklearn.base import BaseEstimator, TransformerMixin\n",
    "\n",
    "from sklearn.pipeline import Pipeline\n",
    "from sklearn.feature_extraction.text import HashingVectorizer, TfidfVectorizer, CountVectorizer\n",
    "from tqdm import tqdm\n",
    "from classif import PartSelector\n",
    "import re"
   ]
  },
  {
   "cell_type": "code",
   "execution_count": 75,
   "id": "f4c623d0",
   "metadata": {},
   "outputs": [],
   "source": [
    "df = pd.read_csv('./data/data-sample-invoices.csv')\n",
    "\n",
    "# Convert codes as floats into category types\n",
    "df['nature'] = df['nature'].astype('Int64')\n",
    "df['nature'] = df['nature'].astype('category')\n",
    "\n",
    "df['cost_center'] = df['cost_center'].astype('Int64')\n",
    "df['cost_center'] = df['cost_center'].astype('category')"
   ]
  },
  {
   "cell_type": "code",
   "execution_count": 76,
   "id": "0608a7ca",
   "metadata": {},
   "outputs": [],
   "source": [
    "df['counterparty_rfc'] = df['counterparty_rfc'].astype('str')\n",
    "df['counterparty_name'] = df['counterparty_name'].astype('str')\n",
    "df['descriptions'] = df['descriptions'].astype('str')"
   ]
  },
  {
   "cell_type": "code",
   "execution_count": 77,
   "id": "45b8b782",
   "metadata": {},
   "outputs": [],
   "source": [
    "feature_names = ['counterparty_name', 'counterparty_rfc', 'descriptions']\n",
    "target_names = ['nature', 'cost_center']\n",
    "# subset the working dataset columns\n",
    "data = df[feature_names + target_names]"
   ]
  },
  {
   "cell_type": "code",
   "execution_count": 78,
   "id": "23c24a5a",
   "metadata": {},
   "outputs": [
    {
     "data": {
      "text/plain": [
       "counterparty_name      object\n",
       "counterparty_rfc       object\n",
       "descriptions           object\n",
       "nature               category\n",
       "cost_center          category\n",
       "dtype: object"
      ]
     },
     "execution_count": 78,
     "metadata": {},
     "output_type": "execute_result"
    }
   ],
   "source": [
    "data.dtypes"
   ]
  },
  {
   "cell_type": "code",
   "execution_count": null,
   "id": "6d83f4cf",
   "metadata": {},
   "outputs": [],
   "source": []
  },
  {
   "cell_type": "markdown",
   "id": "cc71cb3c",
   "metadata": {},
   "source": [
    "#### Create an `all_text` column for vectorization\n",
    "Transform NA values (NaN) into empty strings for the current target and concatenate nto an `all_text` col"
   ]
  },
  {
   "cell_type": "code",
   "execution_count": 79,
   "id": "37726f7a",
   "metadata": {},
   "outputs": [],
   "source": [
    "def _convertAccented(text, pattobj):\n",
    "        '''\n",
    "        Restore characters from lowercase text, like \"&oacute;\" into \"ó\"\n",
    "        '''\n",
    "        accented = {\n",
    "            'a':'á',\n",
    "            'e':'é',\n",
    "            'i':'í',\n",
    "            'o': 'ó',\n",
    "            'u':'ú'\n",
    "        }\n",
    "\n",
    "        def accentRepl(matchobj):\n",
    "            letter = matchobj.group(1)\n",
    "            return accented[letter]\n",
    "\n",
    "        return pattobj.sub(accentRepl, text)"
   ]
  },
  {
   "cell_type": "code",
   "execution_count": 80,
   "id": "008f200c",
   "metadata": {},
   "outputs": [],
   "source": [
    "patt = r'&([aeiou])acute;'  # vowel is captured by group 1\n",
    "accent_rgx = re.compile(patt)      # compiled beforehand for performance\n",
    "    \n",
    "def f(row):\n",
    "    '''\n",
    "    Creates a value for the column all_text with the concatenation of string values, \n",
    "    emmpty strings if nan.\n",
    "    '''\n",
    "    notna = row.notna()\n",
    "    \n",
    "    name = row['counterparty_name'] if notna['counterparty_name'] else ''\n",
    "    rfc = row['counterparty_rfc'] if notna['counterparty_rfc'] else ''\n",
    "    descriptions = row['descriptions'] if notna['descriptions'] else ''\n",
    "    \n",
    "    all_text = ' '.join([\n",
    "                    name,\n",
    "                    rfc,\n",
    "                    descriptions,\n",
    "                ]).replace('\\n', ' ')\n",
    "    \n",
    "    all_text = _convertAccented(all_text.lower(), accent_rgx)\n",
    "    return all_text"
   ]
  },
  {
   "cell_type": "code",
   "execution_count": 81,
   "id": "70180c08",
   "metadata": {},
   "outputs": [
    {
     "name": "stderr",
     "output_type": "stream",
     "text": [
      "C:\\Users\\eric\\AppData\\Local\\Temp/ipykernel_10392/2324507382.py:1: SettingWithCopyWarning: \n",
      "A value is trying to be set on a copy of a slice from a DataFrame.\n",
      "Try using .loc[row_indexer,col_indexer] = value instead\n",
      "\n",
      "See the caveats in the documentation: https://pandas.pydata.org/pandas-docs/stable/user_guide/indexing.html#returning-a-view-versus-a-copy\n",
      "  data['all_text'] = data.apply(lambda x: f(x), axis=1)\n"
     ]
    }
   ],
   "source": [
    "data['all_text'] = data.apply(lambda x: f(x), axis=1)"
   ]
  },
  {
   "cell_type": "code",
   "execution_count": 82,
   "id": "5aa4259f",
   "metadata": {},
   "outputs": [
    {
     "data": {
      "text/plain": [
       "'amj equipo industrial aei100412aca  bota hule jomart suela roja c/c no.25 bota hule jomart suela roja c/c no.29 bota hule jomart suela roja c/c no.30 casco iga cachucha matraca c/e naranja chaparrera de carnaza guante sivsa carnaza corto t/l respirador 3m 8210 polaina suricata chaleco de malla c/reflejante verde mr ut'"
      ]
     },
     "execution_count": 82,
     "metadata": {},
     "output_type": "execute_result"
    }
   ],
   "source": [
    "data['all_text'][1]"
   ]
  },
  {
   "cell_type": "markdown",
   "id": "4a02e49e",
   "metadata": {},
   "source": [
    "## `nature` classifier\n",
    "1. Remove rows with Na in target\n",
    "2. Separate training and validation\n",
    "3. Run model\n",
    "4. Assessment"
   ]
  },
  {
   "cell_type": "markdown",
   "id": "2fdac0cd",
   "metadata": {},
   "source": [
    "#### Remove rows that have NA in target"
   ]
  },
  {
   "cell_type": "code",
   "execution_count": 102,
   "id": "6cecfe21",
   "metadata": {},
   "outputs": [
    {
     "name": "stdout",
     "output_type": "stream",
     "text": [
      "Total 26040\n",
      "9844\n",
      "Without na 16196\n"
     ]
    }
   ],
   "source": [
    "na_nature = data['nature'].isna().sum()\n",
    "print(\"Total\", len(data))\n",
    "print(na_nature)\n",
    "print(\"Without na\", len(data) - na_nature)"
   ]
  },
  {
   "cell_type": "code",
   "execution_count": 103,
   "id": "e0682b68",
   "metadata": {},
   "outputs": [],
   "source": [
    "nature_data = data.dropna(axis=0, subset=['nature'], how='any', inplace=False)"
   ]
  },
  {
   "cell_type": "code",
   "execution_count": 104,
   "id": "07351689",
   "metadata": {},
   "outputs": [
    {
     "data": {
      "text/plain": [
       "16196"
      ]
     },
     "execution_count": 104,
     "metadata": {},
     "output_type": "execute_result"
    }
   ],
   "source": [
    "len(nature_data)"
   ]
  },
  {
   "cell_type": "markdown",
   "id": "999e1338",
   "metadata": {},
   "source": [
    "#### Vectorize: strip accents, hashing vectorizer"
   ]
  },
  {
   "cell_type": "code",
   "execution_count": 105,
   "id": "a997e194",
   "metadata": {},
   "outputs": [],
   "source": [
    "# just like in current implementation\n",
    "vect = HashingVectorizer(n_features=262144, ngram_range=(1, 2),\n",
    "                        binary=True, strip_accents='ascii')"
   ]
  },
  {
   "cell_type": "code",
   "execution_count": 106,
   "id": "8c02a51f",
   "metadata": {},
   "outputs": [],
   "source": [
    "# Add the Pipeline Steps manually FOR NATURE\n",
    "X = nature_data['all_text']  # name, rfc, descriptions\n",
    "vectorized_X = vect.transform(X)"
   ]
  },
  {
   "cell_type": "markdown",
   "id": "14dc6b7f",
   "metadata": {},
   "source": [
    "#### Split the data"
   ]
  },
  {
   "cell_type": "code",
   "execution_count": 107,
   "id": "fbd2abcf",
   "metadata": {},
   "outputs": [],
   "source": [
    "y = np.array(nature_data['nature']).astype('int64')\n",
    "\n",
    "X_train, X_test, y_train, y_test = model_selection.train_test_split(\n",
    "                                    vectorized_X, y, test_size=0.3, random_state=0\n",
    "                                    )"
   ]
  },
  {
   "cell_type": "markdown",
   "id": "cabbdf7a",
   "metadata": {},
   "source": [
    "### Instantiate `DMatrix` "
   ]
  },
  {
   "cell_type": "code",
   "execution_count": 109,
   "id": "cba0d8cb",
   "metadata": {},
   "outputs": [
    {
     "data": {
      "text/plain": [
       "True"
      ]
     },
     "execution_count": 109,
     "metadata": {},
     "output_type": "execute_result"
    }
   ],
   "source": [
    "X_train.shape[0]==len(y_train) and  X_test.shape[0]==len(y_test)  # subset to 18,228 obs. for training"
   ]
  },
  {
   "cell_type": "code",
   "execution_count": 110,
   "id": "86e7c0d7",
   "metadata": {},
   "outputs": [],
   "source": [
    "dtrain = xgb.DMatrix(X_train, label=y_train)\n",
    "dtest =  xgb.DMatrix(X_test, label=y_test)\n",
    "\n",
    "# obj_df[\"body_style_cat\"] = obj_df[\"body_style\"].cat.codes\n",
    "# obj_df.head() to make categories available as numbers"
   ]
  },
  {
   "cell_type": "markdown",
   "id": "c3c70f77",
   "metadata": {},
   "source": [
    "#### Init a boosted classifier\n",
    "\n",
    "[Softmax!](https://en.wikipedia.org/wiki/Softmax_function)"
   ]
  },
  {
   "cell_type": "code",
   "execution_count": 118,
   "id": "fa35cf59",
   "metadata": {},
   "outputs": [],
   "source": [
    "objective_func = 'multi:softmax' # does it work with multi class?  | multi:softmax | multi:softprob\n",
    "\n",
    "# we need to set the number of classes in num_class.\n",
    "params = {\n",
    "    'max_depth':2,  # the deeper the more complex. default=6\n",
    "    'eta': 1, # step size shrinkage in every update to prevent overfitting. \n",
    "    'objective':objective_func,\n",
    "    'num_class': len(set(y))\n",
    "}\n",
    "watchlist = [(dtest, 'eval'), (dtrain, 'train')]\n",
    "num_round = 2 # number of boosting rounds"
   ]
  },
  {
   "cell_type": "code",
   "execution_count": 119,
   "id": "bb3f85ca",
   "metadata": {},
   "outputs": [
    {
     "ename": "XGBoostError",
     "evalue": "[12:04:24] C:/Users/Administrator/workspace/xgboost-win64_release_1.5.1/src/objective/multiclass_obj.cu:120: SoftmaxMultiClassObj: label must be in [0, num_class).",
     "output_type": "error",
     "traceback": [
      "\u001b[1;31m---------------------------------------------------------------------------\u001b[0m",
      "\u001b[1;31mXGBoostError\u001b[0m                              Traceback (most recent call last)",
      "\u001b[1;32m~\\AppData\\Local\\Temp/ipykernel_10392/3616359676.py\u001b[0m in \u001b[0;36m<module>\u001b[1;34m\u001b[0m\n\u001b[1;32m----> 1\u001b[1;33m \u001b[0mbst\u001b[0m \u001b[1;33m=\u001b[0m \u001b[0mxgb\u001b[0m\u001b[1;33m.\u001b[0m\u001b[0mtrain\u001b[0m\u001b[1;33m(\u001b[0m\u001b[0mparams\u001b[0m\u001b[1;33m,\u001b[0m \u001b[0mdtrain\u001b[0m\u001b[1;33m,\u001b[0m \u001b[0mnum_round\u001b[0m\u001b[1;33m,\u001b[0m \u001b[0mwatchlist\u001b[0m\u001b[1;33m)\u001b[0m\u001b[1;33m\u001b[0m\u001b[1;33m\u001b[0m\u001b[0m\n\u001b[0m",
      "\u001b[1;32mc:\\users\\eric\\documents\\listo-classifier\\.venv\\lib\\site-packages\\xgboost\\training.py\u001b[0m in \u001b[0;36mtrain\u001b[1;34m(params, dtrain, num_boost_round, evals, obj, feval, maximize, early_stopping_rounds, evals_result, verbose_eval, xgb_model, callbacks)\u001b[0m\n\u001b[0;32m    186\u001b[0m     \u001b[0mBooster\u001b[0m \u001b[1;33m:\u001b[0m \u001b[0ma\u001b[0m \u001b[0mtrained\u001b[0m \u001b[0mbooster\u001b[0m \u001b[0mmodel\u001b[0m\u001b[1;33m\u001b[0m\u001b[1;33m\u001b[0m\u001b[0m\n\u001b[0;32m    187\u001b[0m     \"\"\"\n\u001b[1;32m--> 188\u001b[1;33m     bst = _train_internal(params, dtrain,\n\u001b[0m\u001b[0;32m    189\u001b[0m                           \u001b[0mnum_boost_round\u001b[0m\u001b[1;33m=\u001b[0m\u001b[0mnum_boost_round\u001b[0m\u001b[1;33m,\u001b[0m\u001b[1;33m\u001b[0m\u001b[1;33m\u001b[0m\u001b[0m\n\u001b[0;32m    190\u001b[0m                           \u001b[0mevals\u001b[0m\u001b[1;33m=\u001b[0m\u001b[0mevals\u001b[0m\u001b[1;33m,\u001b[0m\u001b[1;33m\u001b[0m\u001b[1;33m\u001b[0m\u001b[0m\n",
      "\u001b[1;32mc:\\users\\eric\\documents\\listo-classifier\\.venv\\lib\\site-packages\\xgboost\\training.py\u001b[0m in \u001b[0;36m_train_internal\u001b[1;34m(params, dtrain, num_boost_round, evals, obj, feval, xgb_model, callbacks, evals_result, maximize, verbose_eval, early_stopping_rounds)\u001b[0m\n\u001b[0;32m     79\u001b[0m         \u001b[1;32mif\u001b[0m \u001b[0mcallbacks\u001b[0m\u001b[1;33m.\u001b[0m\u001b[0mbefore_iteration\u001b[0m\u001b[1;33m(\u001b[0m\u001b[0mbst\u001b[0m\u001b[1;33m,\u001b[0m \u001b[0mi\u001b[0m\u001b[1;33m,\u001b[0m \u001b[0mdtrain\u001b[0m\u001b[1;33m,\u001b[0m \u001b[0mevals\u001b[0m\u001b[1;33m)\u001b[0m\u001b[1;33m:\u001b[0m\u001b[1;33m\u001b[0m\u001b[1;33m\u001b[0m\u001b[0m\n\u001b[0;32m     80\u001b[0m             \u001b[1;32mbreak\u001b[0m\u001b[1;33m\u001b[0m\u001b[1;33m\u001b[0m\u001b[0m\n\u001b[1;32m---> 81\u001b[1;33m         \u001b[0mbst\u001b[0m\u001b[1;33m.\u001b[0m\u001b[0mupdate\u001b[0m\u001b[1;33m(\u001b[0m\u001b[0mdtrain\u001b[0m\u001b[1;33m,\u001b[0m \u001b[0mi\u001b[0m\u001b[1;33m,\u001b[0m \u001b[0mobj\u001b[0m\u001b[1;33m)\u001b[0m\u001b[1;33m\u001b[0m\u001b[1;33m\u001b[0m\u001b[0m\n\u001b[0m\u001b[0;32m     82\u001b[0m         \u001b[1;32mif\u001b[0m \u001b[0mcallbacks\u001b[0m\u001b[1;33m.\u001b[0m\u001b[0mafter_iteration\u001b[0m\u001b[1;33m(\u001b[0m\u001b[0mbst\u001b[0m\u001b[1;33m,\u001b[0m \u001b[0mi\u001b[0m\u001b[1;33m,\u001b[0m \u001b[0mdtrain\u001b[0m\u001b[1;33m,\u001b[0m \u001b[0mevals\u001b[0m\u001b[1;33m)\u001b[0m\u001b[1;33m:\u001b[0m\u001b[1;33m\u001b[0m\u001b[1;33m\u001b[0m\u001b[0m\n\u001b[0;32m     83\u001b[0m             \u001b[1;32mbreak\u001b[0m\u001b[1;33m\u001b[0m\u001b[1;33m\u001b[0m\u001b[0m\n",
      "\u001b[1;32mc:\\users\\eric\\documents\\listo-classifier\\.venv\\lib\\site-packages\\xgboost\\core.py\u001b[0m in \u001b[0;36mupdate\u001b[1;34m(self, dtrain, iteration, fobj)\u001b[0m\n\u001b[0;32m   1678\u001b[0m \u001b[1;33m\u001b[0m\u001b[0m\n\u001b[0;32m   1679\u001b[0m         \u001b[1;32mif\u001b[0m \u001b[0mfobj\u001b[0m \u001b[1;32mis\u001b[0m \u001b[1;32mNone\u001b[0m\u001b[1;33m:\u001b[0m\u001b[1;33m\u001b[0m\u001b[1;33m\u001b[0m\u001b[0m\n\u001b[1;32m-> 1680\u001b[1;33m             _check_call(_LIB.XGBoosterUpdateOneIter(self.handle,\n\u001b[0m\u001b[0;32m   1681\u001b[0m                                                     \u001b[0mctypes\u001b[0m\u001b[1;33m.\u001b[0m\u001b[0mc_int\u001b[0m\u001b[1;33m(\u001b[0m\u001b[0miteration\u001b[0m\u001b[1;33m)\u001b[0m\u001b[1;33m,\u001b[0m\u001b[1;33m\u001b[0m\u001b[1;33m\u001b[0m\u001b[0m\n\u001b[0;32m   1682\u001b[0m                                                     dtrain.handle))\n",
      "\u001b[1;32mc:\\users\\eric\\documents\\listo-classifier\\.venv\\lib\\site-packages\\xgboost\\core.py\u001b[0m in \u001b[0;36m_check_call\u001b[1;34m(ret)\u001b[0m\n\u001b[0;32m    216\u001b[0m     \"\"\"\n\u001b[0;32m    217\u001b[0m     \u001b[1;32mif\u001b[0m \u001b[0mret\u001b[0m \u001b[1;33m!=\u001b[0m \u001b[1;36m0\u001b[0m\u001b[1;33m:\u001b[0m\u001b[1;33m\u001b[0m\u001b[1;33m\u001b[0m\u001b[0m\n\u001b[1;32m--> 218\u001b[1;33m         \u001b[1;32mraise\u001b[0m \u001b[0mXGBoostError\u001b[0m\u001b[1;33m(\u001b[0m\u001b[0mpy_str\u001b[0m\u001b[1;33m(\u001b[0m\u001b[0m_LIB\u001b[0m\u001b[1;33m.\u001b[0m\u001b[0mXGBGetLastError\u001b[0m\u001b[1;33m(\u001b[0m\u001b[1;33m)\u001b[0m\u001b[1;33m)\u001b[0m\u001b[1;33m)\u001b[0m\u001b[1;33m\u001b[0m\u001b[1;33m\u001b[0m\u001b[0m\n\u001b[0m\u001b[0;32m    219\u001b[0m \u001b[1;33m\u001b[0m\u001b[0m\n\u001b[0;32m    220\u001b[0m \u001b[1;33m\u001b[0m\u001b[0m\n",
      "\u001b[1;31mXGBoostError\u001b[0m: [12:04:24] C:/Users/Administrator/workspace/xgboost-win64_release_1.5.1/src/objective/multiclass_obj.cu:120: SoftmaxMultiClassObj: label must be in [0, num_class)."
     ]
    }
   ],
   "source": [
    "bst = xgb.train(params, dtrain, num_round, watchlist)"
   ]
  },
  {
   "cell_type": "code",
   "execution_count": null,
   "id": "ac662bd3",
   "metadata": {},
   "outputs": [],
   "source": []
  }
 ],
 "metadata": {
  "kernelspec": {
   "display_name": "Python 3 (ipykernel)",
   "language": "python",
   "name": "python3"
  },
  "language_info": {
   "codemirror_mode": {
    "name": "ipython",
    "version": 3
   },
   "file_extension": ".py",
   "mimetype": "text/x-python",
   "name": "python",
   "nbconvert_exporter": "python",
   "pygments_lexer": "ipython3",
   "version": "3.8.9"
  }
 },
 "nbformat": 4,
 "nbformat_minor": 5
}
