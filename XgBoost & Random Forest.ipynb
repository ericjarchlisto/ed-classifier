{
 "cells": [
  {
   "cell_type": "code",
   "execution_count": 1,
   "id": "c2af93b8",
   "metadata": {},
   "outputs": [],
   "source": [
    "import numpy as np\n",
    "import scipy.sparse\n",
    "import pickle\n",
    "import xgboost as xgb\n",
    "import os\n",
    "import pandas as pd\n",
    "from scipy import sparse\n",
    "from sklearn import metrics, model_selection\n",
    "from sklearn.base import BaseEstimator, TransformerMixin\n",
    "import seaborn as sns\n",
    "\n",
    "from sklearn.pipeline import Pipeline\n",
    "from sklearn.feature_extraction.text import HashingVectorizer, TfidfVectorizer, CountVectorizer\n",
    "from tqdm import tqdm\n",
    "from classif import PartSelector\n",
    "import re"
   ]
  },
  {
   "cell_type": "markdown",
   "id": "221c1412",
   "metadata": {},
   "source": [
    "## Data Prep\n",
    "1. The `nature` and `cost_center` columns are converted from float into \"category\" dtype.\n",
    "2. Input features (rfc, name, desc) are converted into string dtype.\n",
    "3. We create a subset dataframe with the columns we care about. 3 features and 2 targets"
   ]
  },
  {
   "cell_type": "code",
   "execution_count": 4,
   "id": "f4c623d0",
   "metadata": {},
   "outputs": [],
   "source": [
    "df = pd.read_csv('./data/data-sample-invoices.csv')\n",
    "\n",
    "# Convert codes as floats into category types\n",
    "df['nature'] = df['nature'].astype('Int64')\n",
    "df['nature'] = df['nature'].astype('category')\n",
    "\n",
    "df['cost_center'] = df['cost_center'].astype('Int64')\n",
    "df['cost_center'] = df['cost_center'].astype('category')"
   ]
  },
  {
   "cell_type": "code",
   "execution_count": 5,
   "id": "0608a7ca",
   "metadata": {},
   "outputs": [],
   "source": [
    "# Coerce input features to string\n",
    "df['counterparty_rfc'] = df['counterparty_rfc'].astype('str')\n",
    "df['counterparty_name'] = df['counterparty_name'].astype('str')\n",
    "df['descriptions'] = df['descriptions'].astype('str')"
   ]
  },
  {
   "cell_type": "code",
   "execution_count": 6,
   "id": "45b8b782",
   "metadata": {},
   "outputs": [],
   "source": [
    "# Subset the working dataset columns: features + targets\n",
    "\n",
    "feature_names = ['counterparty_name', 'counterparty_rfc', 'descriptions']\n",
    "target_names = ['nature', 'cost_center']\n",
    "\n",
    "data = df.copy()[feature_names + target_names]"
   ]
  },
  {
   "cell_type": "code",
   "execution_count": 7,
   "id": "23c24a5a",
   "metadata": {},
   "outputs": [
    {
     "data": {
      "text/plain": [
       "counterparty_name      object\n",
       "counterparty_rfc       object\n",
       "descriptions           object\n",
       "nature               category\n",
       "cost_center          category\n",
       "dtype: object"
      ]
     },
     "execution_count": 7,
     "metadata": {},
     "output_type": "execute_result"
    }
   ],
   "source": [
    "data.dtypes"
   ]
  },
  {
   "cell_type": "markdown",
   "id": "cc71cb3c",
   "metadata": {},
   "source": [
    "### Regularize text: Create an `all_text` column for vectorization\n",
    "1. Restore accented characters in html encoding. \n",
    "2. Convert target NA values (NaN) into empty strings.\n",
    "3. Concatenate input features into an `all_text` col, removing newlines."
   ]
  },
  {
   "cell_type": "code",
   "execution_count": 8,
   "id": "37726f7a",
   "metadata": {},
   "outputs": [],
   "source": [
    "def _convertAccented(text, pattobj):\n",
    "        '''\n",
    "        Restore characters from lowercase text, eg. \"&oacute;\" -> \"ó\"\n",
    "        '''\n",
    "        accented = {\n",
    "            'a':'á',\n",
    "            'e':'é',\n",
    "            'i':'í',\n",
    "            'o': 'ó',\n",
    "            'u':'ú'\n",
    "        }\n",
    "\n",
    "        def accentRepl(matchobj):\n",
    "            letter = matchobj.group(1)\n",
    "            return accented[letter]\n",
    "\n",
    "        return pattobj.sub(accentRepl, text)"
   ]
  },
  {
   "cell_type": "code",
   "execution_count": 9,
   "id": "008f200c",
   "metadata": {},
   "outputs": [],
   "source": [
    "patt = r'&([aeiou])acute;'  # vowel is captured by group 1\n",
    "accent_rgx = re.compile(patt)      # compiled beforehand for performance\n",
    "    \n",
    "def f(row):\n",
    "    '''\n",
    "    Creates a value for the column all_text with the concatenation of string values, \n",
    "    emmpty strings if nan.\n",
    "    '''\n",
    "    notna = row.notna()\n",
    "    \n",
    "    name = row['counterparty_name'] if notna['counterparty_name'] else ''\n",
    "    rfc = row['counterparty_rfc'] if notna['counterparty_rfc'] else ''\n",
    "    descriptions = row['descriptions'] if notna['descriptions'] else ''\n",
    "    \n",
    "    all_text = ' '.join([\n",
    "                    name,\n",
    "                    rfc,\n",
    "                    descriptions,\n",
    "                ]).replace('\\n', ' ')\n",
    "    \n",
    "    # Normalize to lowercase and remove html syntax characters\n",
    "    all_text = _convertAccented(all_text.lower(), accent_rgx)\n",
    "    return all_text"
   ]
  },
  {
   "cell_type": "code",
   "execution_count": 10,
   "id": "70180c08",
   "metadata": {},
   "outputs": [],
   "source": [
    "data['all_text'] = data.apply(lambda x: f(x), axis=1)"
   ]
  },
  {
   "cell_type": "markdown",
   "id": "4f30cfbd",
   "metadata": {},
   "source": [
    "#### Also encode class labels ('61318' -> 1) for our classifier\n",
    "- add them into separate code columns"
   ]
  },
  {
   "cell_type": "code",
   "execution_count": 11,
   "id": "5aa4259f",
   "metadata": {},
   "outputs": [],
   "source": [
    "# Create columns for the targets' category encoding.\n",
    "\n",
    "data['nature_code'] = data['nature'].cat.codes\n",
    "data['cost_center_code'] = data['cost_center'].cat.codes"
   ]
  },
  {
   "cell_type": "code",
   "execution_count": 12,
   "id": "3480ea53",
   "metadata": {},
   "outputs": [
    {
     "data": {
      "text/plain": [
       "Index(['counterparty_name', 'counterparty_rfc', 'descriptions', 'nature',\n",
       "       'cost_center', 'all_text', 'nature_code', 'cost_center_code'],\n",
       "      dtype='object')"
      ]
     },
     "execution_count": 12,
     "metadata": {},
     "output_type": "execute_result"
    }
   ],
   "source": [
    "data.columns"
   ]
  },
  {
   "cell_type": "markdown",
   "id": "9dc3bc34",
   "metadata": {},
   "source": [
    "Before we feed into a model, we must:\n",
    "1. Remove rows having NA depending on target\n",
    "2. Split into training and validation sets\n",
    "\n",
    "We then run the model, finally we evaluate."
   ]
  },
  {
   "cell_type": "markdown",
   "id": "2fdac0cd",
   "metadata": {},
   "source": [
    "### Split into nature and cost_center data, removing NA target values"
   ]
  },
  {
   "cell_type": "code",
   "execution_count": 13,
   "id": "6cecfe21",
   "metadata": {},
   "outputs": [
    {
     "name": "stdout",
     "output_type": "stream",
     "text": [
      "Total 26040\n",
      "9844\n",
      "total - NA =  16196\n",
      "After dropna: 16196\n"
     ]
    }
   ],
   "source": [
    "# TARGET nature\n",
    "na_nature = data['nature'].isna().sum()\n",
    "print(\"Total\", len(data))\n",
    "print(na_nature)\n",
    "print(\"total - NA = \", len(data) - na_nature)\n",
    "\n",
    "# TARGET nature\n",
    "nature_data = data.dropna(axis=0, subset=['nature'], how='any', inplace=False)\n",
    "print(\"After dropna:\", len(nature_data))"
   ]
  },
  {
   "cell_type": "code",
   "execution_count": 14,
   "id": "24159527",
   "metadata": {},
   "outputs": [
    {
     "name": "stdout",
     "output_type": "stream",
     "text": [
      "Total 26040\n",
      "409\n",
      "total - NA =  25631\n",
      "After dropna: 25631\n"
     ]
    }
   ],
   "source": [
    "# TARGET cost_center\n",
    "na_cost = data['cost_center'].isna().sum()\n",
    "print(\"Total\", len(data))\n",
    "print(na_cost)\n",
    "print(\"total - NA = \", len(data) - na_cost)\n",
    "\n",
    "# TARGET cost\n",
    "cost_data = data.dropna(axis=0, subset=['cost_center'], how='any', inplace=False)\n",
    "print(\"After dropna:\", len(cost_data))"
   ]
  },
  {
   "cell_type": "code",
   "execution_count": 15,
   "id": "cd99c5db",
   "metadata": {},
   "outputs": [
    {
     "data": {
      "text/plain": [
       "171"
      ]
     },
     "execution_count": 15,
     "metadata": {},
     "output_type": "execute_result"
    }
   ],
   "source": [
    "len(set(nature_data['nature'])) # how many nature classes?"
   ]
  },
  {
   "cell_type": "code",
   "execution_count": 16,
   "id": "9e7ed1eb",
   "metadata": {},
   "outputs": [
    {
     "data": {
      "text/plain": [
       "273"
      ]
     },
     "execution_count": 16,
     "metadata": {},
     "output_type": "execute_result"
    }
   ],
   "source": [
    "len(set(cost_data['cost_center'])) # how many nature classes?"
   ]
  },
  {
   "cell_type": "markdown",
   "id": "999e1338",
   "metadata": {},
   "source": [
    "### Vectorization: \n",
    "- We use hashing vectorizer so we don't need in-memory dictionary or vocabulary\n",
    "- Number of features is fixed"
   ]
  },
  {
   "cell_type": "code",
   "execution_count": 17,
   "id": "8c02a51f",
   "metadata": {},
   "outputs": [],
   "source": [
    "# NATURE\n",
    "vect = HashingVectorizer(n_features=262144, ngram_range=(1, 2),\n",
    "                        binary=True, strip_accents='ascii') # removes accented chars.\n",
    "\n",
    "X = nature_data['all_text']  # name, rfc, descriptions\n",
    "vectorized_X = vect.transform(X)\n",
    "\n",
    "# Labels vector\n",
    "y = np.array(nature_data['nature_code'])"
   ]
  },
  {
   "cell_type": "code",
   "execution_count": 18,
   "id": "b1f5d1af",
   "metadata": {},
   "outputs": [],
   "source": [
    "# COST CENTER\n",
    "vect_c = HashingVectorizer(n_features=262144, ngram_range=(1, 2),\n",
    "                        binary=True, strip_accents='ascii') \n",
    "\n",
    "X_c = cost_data['all_text']  # name, rfc, descriptions\n",
    "vectorized_X_c = vect.transform(X_c)\n",
    "\n",
    "# Labels vector\n",
    "y_c = np.array(cost_data['cost_center_code'])"
   ]
  },
  {
   "cell_type": "markdown",
   "id": "aee9a5f1",
   "metadata": {},
   "source": [
    "#### Visualize the data"
   ]
  },
  {
   "cell_type": "code",
   "execution_count": 81,
   "id": "f29e0ea0",
   "metadata": {},
   "outputs": [
    {
     "name": "stderr",
     "output_type": "stream",
     "text": [
      "c:\\users\\eric\\documents\\listo-classifier\\.venv\\lib\\site-packages\\seaborn\\_decorators.py:36: FutureWarning: Pass the following variable as a keyword arg: x. From version 0.12, the only valid positional argument will be `data`, and passing other arguments without an explicit keyword will result in an error or misinterpretation.\n",
      "  warnings.warn(\n"
     ]
    },
    {
     "data": {
      "image/png": "[encoded data removed]",
      "text/plain": [
       "<Figure size 1080x576 with 1 Axes>"
      ]
     },
     "metadata": {
      "needs_background": "light"
     },
     "output_type": "display_data"
    }
   ],
   "source": [
    "from matplotlib import rcParams\n",
    "\n",
    "rcParams['figure.figsize'] = 15,8\n",
    "_ = sns.countplot(y)"
   ]
  },
  {
   "cell_type": "code",
   "execution_count": 54,
   "id": "f67ab3c2",
   "metadata": {},
   "outputs": [
    {
     "name": "stderr",
     "output_type": "stream",
     "text": [
      "c:\\users\\eric\\documents\\listo-classifier\\.venv\\lib\\site-packages\\seaborn\\_decorators.py:36: FutureWarning: Pass the following variable as a keyword arg: x. From version 0.12, the only valid positional argument will be `data`, and passing other arguments without an explicit keyword will result in an error or misinterpretation.\n",
      "  warnings.warn(\n"
     ]
    },
    {
     "data": {
      "image/png": "[encoded data removed]",
      "text/plain": [
       "<Figure size 1080x576 with 1 Axes>"
      ]
     },
     "metadata": {
      "needs_background": "light"
     },
     "output_type": "display_data"
    }
   ],
   "source": [
    "_ = sns.countplot(y_c)"
   ]
  },
  {
   "cell_type": "code",
   "execution_count": 21,
   "id": "5eaf4ad5",
   "metadata": {},
   "outputs": [
    {
     "name": "stdout",
     "output_type": "stream",
     "text": [
      "Nature\n",
      "Most common: 12\n",
      "Cost\n",
      "Most common: 2\n"
     ]
    }
   ],
   "source": [
    "from collections import Counter\n",
    "def most_frequent(List):\n",
    "    occurence_count = Counter(List)\n",
    "    print(\"Most common:\", occurence_count.most_common(1)[0][0])\n",
    "    return occurence_count\n",
    "\n",
    "print(\"Nature\")\n",
    "nature = most_frequent(y)\n",
    "print(\"Cost\")\n",
    "cost_center = most_frequent(y_c)"
   ]
  },
  {
   "cell_type": "code",
   "execution_count": 26,
   "id": "dd974ea6",
   "metadata": {},
   "outputs": [
    {
     "data": {
      "text/plain": [
       "6954"
      ]
     },
     "execution_count": 26,
     "metadata": {},
     "output_type": "execute_result"
    }
   ],
   "source": [
    "nature[12]"
   ]
  },
  {
   "cell_type": "code",
   "execution_count": 27,
   "id": "e2e96e8e",
   "metadata": {},
   "outputs": [
    {
     "data": {
      "text/plain": [
       "7538"
      ]
     },
     "execution_count": 27,
     "metadata": {},
     "output_type": "execute_result"
    }
   ],
   "source": [
    "cost_center[2]"
   ]
  },
  {
   "cell_type": "code",
   "execution_count": 29,
   "id": "ccd078af",
   "metadata": {},
   "outputs": [
    {
     "data": {
      "text/plain": [
       "0.4293652753766362"
      ]
     },
     "execution_count": 29,
     "metadata": {},
     "output_type": "execute_result"
    }
   ],
   "source": [
    "6954/len(y)"
   ]
  },
  {
   "cell_type": "markdown",
   "id": "14dc6b7f",
   "metadata": {},
   "source": [
    "### Split the data into Training and Testing"
   ]
  },
  {
   "cell_type": "code",
   "execution_count": 19,
   "id": "fbd2abcf",
   "metadata": {},
   "outputs": [],
   "source": [
    "# TARGET nature\n",
    "X_train, X_test, y_train, y_test = model_selection.train_test_split(\n",
    "                                                                    vectorized_X, \n",
    "                                                                    y, \n",
    "                                                                    test_size=0.3,   # like curr implementation\n",
    "                                                                    random_state=0\n",
    "                                                                    )"
   ]
  },
  {
   "cell_type": "code",
   "execution_count": 20,
   "id": "49bf8415",
   "metadata": {},
   "outputs": [],
   "source": [
    "# TARGET cost_center\n",
    "X_train_c, X_test_c, y_train_c, y_test_c = model_selection.train_test_split(\n",
    "                                                                    vectorized_X_c, \n",
    "                                                                    y_c, \n",
    "                                                                    test_size=0.3,   # like curr implementation\n",
    "                                                                    random_state=0\n",
    "                                                                    )"
   ]
  },
  {
   "cell_type": "markdown",
   "id": "4a02e49e",
   "metadata": {},
   "source": [
    "## XGB classifier"
   ]
  },
  {
   "cell_type": "markdown",
   "id": "cabbdf7a",
   "metadata": {},
   "source": [
    "### Instantiate `DMatrix` "
   ]
  },
  {
   "cell_type": "code",
   "execution_count": 85,
   "id": "cba0d8cb",
   "metadata": {},
   "outputs": [
    {
     "data": {
      "text/plain": [
       "True"
      ]
     },
     "execution_count": 85,
     "metadata": {},
     "output_type": "execute_result"
    }
   ],
   "source": [
    "# Sanity checks\n",
    "X_train.shape[0]==len(y_train) and  X_test.shape[0]==len(y_test) \\\n",
    "and X_train_c.shape[0]==len(y_train_c) and  X_test_c.shape[0]==len(y_test_c)"
   ]
  },
  {
   "cell_type": "code",
   "execution_count": 87,
   "id": "86e7c0d7",
   "metadata": {},
   "outputs": [],
   "source": [
    "dtrain = xgb.DMatrix(X_train, label=y_train)\n",
    "dtest =  xgb.DMatrix(X_test, label=y_test)"
   ]
  },
  {
   "cell_type": "code",
   "execution_count": 86,
   "id": "178c345e",
   "metadata": {},
   "outputs": [],
   "source": [
    "dtrain_c = xgb.DMatrix(X_train_c, label=y_train_c)\n",
    "dtest_c =  xgb.DMatrix(X_test_c, label=y_test_c)"
   ]
  },
  {
   "cell_type": "markdown",
   "id": "c3c70f77",
   "metadata": {},
   "source": [
    "#### Init a boosted classifier\n",
    "\n",
    "[Softmax!](https://en.wikipedia.org/wiki/Softmax_function)"
   ]
  },
  {
   "cell_type": "code",
   "execution_count": 29,
   "id": "fa35cf59",
   "metadata": {},
   "outputs": [],
   "source": [
    "# we need to set the number of classes in num_class.\n",
    "NUM_CLASSES = len(set(y))\n",
    "\n",
    "params = {\n",
    "    'max_depth':6,  # the deeper the more complex. default=6. TOVARY\n",
    "    'eta': 1, # step size shrinkage in every update to prevent overfitting. default=0.3 TOVARY\n",
    "    'objective': 'multi:softmax',  # alternatively, softprob\n",
    "    'num_class': NUM_CLASSES,\n",
    "    'eval_metric': 'merror'\n",
    "}\n",
    "\n",
    "watchlist = [(dtest, 'eval'), (dtrain, 'train')]\n",
    "\n",
    "num_round = 1 # number of boosting rounds. 1 seems to be very good"
   ]
  },
  {
   "cell_type": "code",
   "execution_count": 30,
   "id": "bb3f85ca",
   "metadata": {},
   "outputs": [
    {
     "name": "stdout",
     "output_type": "stream",
     "text": [
      "[0]\teval-merror:0.33032\ttrain-merror:0.31534\n"
     ]
    }
   ],
   "source": [
    "bst = xgb.train(params, dtrain, num_round, watchlist)"
   ]
  },
  {
   "cell_type": "code",
   "execution_count": 163,
   "id": "ac662bd3",
   "metadata": {},
   "outputs": [],
   "source": [
    "pred_y = bst.predict(dtest)\n",
    "true_y = dtest.get_label()\n",
    "\n",
    "# both are float32 arrays"
   ]
  },
  {
   "cell_type": "code",
   "execution_count": 164,
   "id": "03f46cd0",
   "metadata": {},
   "outputs": [],
   "source": [
    "results = pd.DataFrame({'pred':pred_y, 'true':true_y}, dtype='int64')"
   ]
  },
  {
   "cell_type": "code",
   "execution_count": 165,
   "id": "89b31552",
   "metadata": {
    "scrolled": true
   },
   "outputs": [
    {
     "data": {
      "text/html": [
       "<div>\n",
       "<style scoped>\n",
       "    .dataframe tbody tr th:only-of-type {\n",
       "        vertical-align: middle;\n",
       "    }\n",
       "\n",
       "    .dataframe tbody tr th {\n",
       "        vertical-align: top;\n",
       "    }\n",
       "\n",
       "    .dataframe thead th {\n",
       "        text-align: right;\n",
       "    }\n",
       "</style>\n",
       "<table border=\"1\" class=\"dataframe\">\n",
       "  <thead>\n",
       "    <tr style=\"text-align: right;\">\n",
       "      <th></th>\n",
       "      <th>pred</th>\n",
       "      <th>true</th>\n",
       "    </tr>\n",
       "  </thead>\n",
       "  <tbody>\n",
       "    <tr>\n",
       "      <th>0</th>\n",
       "      <td>76</td>\n",
       "      <td>138</td>\n",
       "    </tr>\n",
       "    <tr>\n",
       "      <th>1</th>\n",
       "      <td>92</td>\n",
       "      <td>115</td>\n",
       "    </tr>\n",
       "    <tr>\n",
       "      <th>2</th>\n",
       "      <td>12</td>\n",
       "      <td>116</td>\n",
       "    </tr>\n",
       "    <tr>\n",
       "      <th>3</th>\n",
       "      <td>107</td>\n",
       "      <td>107</td>\n",
       "    </tr>\n",
       "    <tr>\n",
       "      <th>4</th>\n",
       "      <td>12</td>\n",
       "      <td>12</td>\n",
       "    </tr>\n",
       "    <tr>\n",
       "      <th>5</th>\n",
       "      <td>12</td>\n",
       "      <td>12</td>\n",
       "    </tr>\n",
       "    <tr>\n",
       "      <th>6</th>\n",
       "      <td>12</td>\n",
       "      <td>12</td>\n",
       "    </tr>\n",
       "    <tr>\n",
       "      <th>7</th>\n",
       "      <td>71</td>\n",
       "      <td>47</td>\n",
       "    </tr>\n",
       "    <tr>\n",
       "      <th>8</th>\n",
       "      <td>89</td>\n",
       "      <td>96</td>\n",
       "    </tr>\n",
       "    <tr>\n",
       "      <th>9</th>\n",
       "      <td>107</td>\n",
       "      <td>107</td>\n",
       "    </tr>\n",
       "    <tr>\n",
       "      <th>10</th>\n",
       "      <td>107</td>\n",
       "      <td>107</td>\n",
       "    </tr>\n",
       "    <tr>\n",
       "      <th>11</th>\n",
       "      <td>107</td>\n",
       "      <td>107</td>\n",
       "    </tr>\n",
       "    <tr>\n",
       "      <th>12</th>\n",
       "      <td>12</td>\n",
       "      <td>12</td>\n",
       "    </tr>\n",
       "    <tr>\n",
       "      <th>13</th>\n",
       "      <td>89</td>\n",
       "      <td>107</td>\n",
       "    </tr>\n",
       "    <tr>\n",
       "      <th>14</th>\n",
       "      <td>76</td>\n",
       "      <td>71</td>\n",
       "    </tr>\n",
       "    <tr>\n",
       "      <th>15</th>\n",
       "      <td>12</td>\n",
       "      <td>12</td>\n",
       "    </tr>\n",
       "    <tr>\n",
       "      <th>16</th>\n",
       "      <td>12</td>\n",
       "      <td>116</td>\n",
       "    </tr>\n",
       "    <tr>\n",
       "      <th>17</th>\n",
       "      <td>162</td>\n",
       "      <td>90</td>\n",
       "    </tr>\n",
       "    <tr>\n",
       "      <th>18</th>\n",
       "      <td>12</td>\n",
       "      <td>12</td>\n",
       "    </tr>\n",
       "    <tr>\n",
       "      <th>19</th>\n",
       "      <td>12</td>\n",
       "      <td>12</td>\n",
       "    </tr>\n",
       "  </tbody>\n",
       "</table>\n",
       "</div>"
      ],
      "text/plain": [
       "    pred  true\n",
       "0     76   138\n",
       "1     92   115\n",
       "2     12   116\n",
       "3    107   107\n",
       "4     12    12\n",
       "5     12    12\n",
       "6     12    12\n",
       "7     71    47\n",
       "8     89    96\n",
       "9    107   107\n",
       "10   107   107\n",
       "11   107   107\n",
       "12    12    12\n",
       "13    89   107\n",
       "14    76    71\n",
       "15    12    12\n",
       "16    12   116\n",
       "17   162    90\n",
       "18    12    12\n",
       "19    12    12"
      ]
     },
     "execution_count": 165,
     "metadata": {},
     "output_type": "execute_result"
    }
   ],
   "source": [
    "results.head(20)"
   ]
  },
  {
   "cell_type": "code",
   "execution_count": 166,
   "id": "f8b4b0d0",
   "metadata": {},
   "outputs": [],
   "source": [
    "d = len(set(true_y).difference(set(pred_y)))"
   ]
  },
  {
   "cell_type": "code",
   "execution_count": 167,
   "id": "6ede1378",
   "metadata": {},
   "outputs": [],
   "source": [
    "d_ = len(set(results['true']).difference(set(results['pred'])))"
   ]
  },
  {
   "cell_type": "code",
   "execution_count": 168,
   "id": "bdf4744a",
   "metadata": {},
   "outputs": [
    {
     "name": "stdout",
     "output_type": "stream",
     "text": [
      "error=0.330315 accuracy=0.669685\n"
     ]
    }
   ],
   "source": [
    "e = (sum(1 for i in range(len(pred_y)) if pred_y[i] != true_y[i]) /\n",
    "       float(len(pred_y)))\n",
    "a = 1 - e\n",
    "print('error=%f accuracy=%f' % (e, a)\n",
    "      )"
   ]
  },
  {
   "cell_type": "markdown",
   "id": "9eda7cbf",
   "metadata": {},
   "source": [
    "# Second try \n",
    "From github repo (gabrielziegler3/xgboost-multiclass-multilabel)"
   ]
  },
  {
   "cell_type": "code",
   "execution_count": null,
   "id": "954ec3ff",
   "metadata": {},
   "outputs": [],
   "source": []
  },
  {
   "cell_type": "code",
   "execution_count": null,
   "id": "11e4b8c6",
   "metadata": {},
   "outputs": [],
   "source": []
  },
  {
   "cell_type": "code",
   "execution_count": null,
   "id": "ba209afe",
   "metadata": {},
   "outputs": [],
   "source": []
  },
  {
   "cell_type": "markdown",
   "id": "17e407a6",
   "metadata": {},
   "source": [
    "# Decision Tree Classifiers (`sklearn`)\n",
    "We attempt three more classifiers:\n",
    "1. Random Forest\n",
    "2. Decision Tree\n",
    "3. AdaBoost\n",
    "\n",
    "A random forest is a meta estimator that fits a number of decision tree classifiers on various sub-samples of the dataset and uses averaging to improve the predictive accuracy and control over-fitting. \n",
    "\n",
    "Sub sample size is controlled by the `max_samples` parameter + `bootstrap=True`"
   ]
  },
  {
   "cell_type": "code",
   "execution_count": 32,
   "id": "814ddef3",
   "metadata": {},
   "outputs": [],
   "source": [
    "from sklearn.ensemble import RandomForestClassifier, AdaBoostClassifier\n",
    "from sklearn.tree import DecisionTreeClassifier"
   ]
  },
  {
   "cell_type": "markdown",
   "id": "edcca8e7",
   "metadata": {},
   "source": [
    "### Random forest"
   ]
  },
  {
   "cell_type": "code",
   "execution_count": 34,
   "id": "c393d14b",
   "metadata": {},
   "outputs": [
    {
     "name": "stdout",
     "output_type": "stream",
     "text": [
      "Random forest (nature) score: 0.42951224531796667\n",
      "Random forest (cost) score: 0.294148244473342\n"
     ]
    }
   ],
   "source": [
    "# Random forest with 10 trees and one feature per split.\n",
    "# each individual tree is at most 5 splits deep\n",
    "rf_nature = RandomForestClassifier(max_depth=5, n_estimators=10, max_features=1)\n",
    "\n",
    "rf_nature.fit(X_train, y_train)\n",
    "score = rf_nature.score(X_test, y_test)\n",
    "\n",
    "print(\"Random forest (nature) score:\", score)  \n",
    "# its very close to the percentage of majority class.\n",
    "\n",
    "rf_cost = RandomForestClassifier(max_depth=5, n_estimators=10, max_features=1)\n",
    "rf_cost.fit(X_train_c,y_train_c)\n",
    "\n",
    "score = rf_cost.score(X_test_c, y_test_c)\n",
    "\n",
    "print(\"Random forest (cost) score:\", score)\n",
    "# its very close to the percentage of majority class."
   ]
  },
  {
   "cell_type": "markdown",
   "id": "7282aa8f",
   "metadata": {},
   "source": [
    "### Decision Tree"
   ]
  },
  {
   "cell_type": "code",
   "execution_count": 36,
   "id": "6cbacccc",
   "metadata": {},
   "outputs": [
    {
     "name": "stdout",
     "output_type": "stream",
     "text": [
      "decision tree (nature) score: 0.5511422103313439\n",
      "decision tree (nature) score: 0.3781534460338101\n"
     ]
    }
   ],
   "source": [
    "dt_nature = DecisionTreeClassifier(max_depth=5)\n",
    "\n",
    "dt_nature.fit(X_train, y_train)\n",
    "score = dt_nature.score(X_test, y_test)\n",
    "\n",
    "print(\"decision tree (nature) score:\", score)  \n",
    "\n",
    "dt_cost = DecisionTreeClassifier(max_depth=5)\n",
    "\n",
    "dt_cost.fit(X_train_c, y_train_c)\n",
    "score = dt_cost.score(X_test_c, y_test_c)\n",
    "\n",
    "print(\"decision tree (nature) score:\", score)  "
   ]
  },
  {
   "cell_type": "code",
   "execution_count": null,
   "id": "ee516463",
   "metadata": {},
   "outputs": [],
   "source": []
  }
 ],
 "metadata": {
  "kernelspec": {
   "display_name": "Python 3 (ipykernel)",
   "language": "python",
   "name": "python3"
  },
  "language_info": {
   "codemirror_mode": {
    "name": "ipython",
    "version": 3
   },
   "file_extension": ".py",
   "mimetype": "text/x-python",
   "name": "python",
   "nbconvert_exporter": "python",
   "pygments_lexer": "ipython3",
   "version": "3.8.9"
  }
 },
 "nbformat": 4,
 "nbformat_minor": 5
}
